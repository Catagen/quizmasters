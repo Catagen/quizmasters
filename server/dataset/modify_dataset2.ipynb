{
 "cells": [
  {
   "cell_type": "code",
   "execution_count": 6,
   "metadata": {},
   "outputs": [],
   "source": [
    "nsfw_words = []\n",
    "\n",
    "with open(\"nsfw.txt\", \"r\") as f:\n",
    "    nsfw_words = f.read().split(\"\\n\")"
   ]
  },
  {
   "cell_type": "code",
   "execution_count": 7,
   "metadata": {},
   "outputs": [],
   "source": [
    "import pandas as pd\n",
    "import pyarrow.parquet as pq\n",
    "import glob\n",
    "from tqdm import tqdm\n",
    "tqdm.pandas()\n",
    "\n",
    "def dataframe(path, cols):\n",
    "\tpaths = glob.glob(path)\n",
    "\tdataset = pq.ParquetDataset(paths)\n",
    "\ttable = dataset.read()\n",
    "\tdf = table.to_pandas()\n",
    "\tdf = df[cols]\n",
    "\treturn df"
   ]
  },
  {
   "cell_type": "code",
   "execution_count": 8,
   "metadata": {},
   "outputs": [],
   "source": [
    "df = dataframe('output/*/*.parquet', ['word', 'definition', 'score'])"
   ]
  },
  {
   "cell_type": "code",
   "execution_count": 22,
   "metadata": {},
   "outputs": [
    {
     "name": "stderr",
     "output_type": "stream",
     "text": [
      "100%|██████████| 466111/466111 [02:27<00:00, 3160.59it/s]\n"
     ]
    }
   ],
   "source": [
    "def detect_nsfw(row):\n",
    "    d = row.definition.split()\n",
    "    for dw in d:\n",
    "        for nw in nsfw_words:\n",
    "            if (nw.lower() in dw.lower()): return True\n",
    "    \n",
    "    return False\n",
    "\n",
    "df['nsfw'] = df.progress_apply(lambda row: detect_nsfw(row), axis=1)"
   ]
  },
  {
   "cell_type": "code",
   "execution_count": 27,
   "metadata": {},
   "outputs": [
    {
     "data": {
      "text/plain": [
       "(147885, 4)"
      ]
     },
     "execution_count": 27,
     "metadata": {},
     "output_type": "execute_result"
    }
   ],
   "source": [
    "df[df['nsfw'] == True].shape"
   ]
  },
  {
   "cell_type": "code",
   "execution_count": 28,
   "metadata": {},
   "outputs": [],
   "source": [
    "df = df.drop(df[df['nsfw'] == True].index)"
   ]
  },
  {
   "cell_type": "code",
   "execution_count": 33,
   "metadata": {},
   "outputs": [
    {
     "name": "stderr",
     "output_type": "stream",
     "text": [
      "100%|██████████| 318226/318226 [01:05<00:00, 4860.86it/s]\n"
     ]
    }
   ],
   "source": [
    "def has_number(row):\n",
    "    for i in range(10):\n",
    "        if (str(i) in row.word): return True\n",
    "    \n",
    "    return False\n",
    "\n",
    "df['has_number'] = df.progress_apply(lambda row: has_number(row), axis=1)"
   ]
  },
  {
   "cell_type": "code",
   "execution_count": 35,
   "metadata": {},
   "outputs": [
    {
     "data": {
      "text/plain": [
       "(3798, 6)"
      ]
     },
     "execution_count": 35,
     "metadata": {},
     "output_type": "execute_result"
    }
   ],
   "source": [
    "df[df['has_number'] == True].shape"
   ]
  },
  {
   "cell_type": "code",
   "execution_count": 36,
   "metadata": {},
   "outputs": [],
   "source": [
    "df = df.drop(df[df['has_number'] == True].index)"
   ]
  },
  {
   "cell_type": "code",
   "execution_count": 37,
   "metadata": {},
   "outputs": [
    {
     "name": "stderr",
     "output_type": "stream",
     "text": [
      "100%|██████████| 314428/314428 [00:08<00:00, 36628.98it/s]\n"
     ]
    }
   ],
   "source": [
    "def format_definition(row):\n",
    "    definition = row.definition.replace(\"[\", \"\")\n",
    "    definition = definition.replace(\"]\", \"\")\n",
    "    definition = definition.replace(\";;\", \"/\")\n",
    "    return definition\n",
    "\n",
    "df['definition'] = df.progress_apply(lambda row: format_definition(row), axis=1)"
   ]
  },
  {
   "cell_type": "code",
   "execution_count": 38,
   "metadata": {},
   "outputs": [
    {
     "data": {
      "text/plain": [
       "0         verb: to own, especially in a said situation.\n",
       "1     The combination of an 11 incher and the extrem...\n",
       "2                         To be close to, near, almost.\n",
       "3                 One who gives a eugoogly at a funeral\n",
       "4     an object or a person that is Lame, Whack, or ...\n",
       "5           Correspondence received while incarcerated.\n",
       "6     When someone is taking hecka long. or when som...\n",
       "8     Its both a hug and cuddle combinded into one m...\n",
       "9     A very lucky, beautiful, godess like person. W...\n",
       "10    adjective - To be incapacitated due to a varie...\n",
       "Name: definition, dtype: object"
      ]
     },
     "execution_count": 38,
     "metadata": {},
     "output_type": "execute_result"
    }
   ],
   "source": [
    "df['definition'][:10]"
   ]
  },
  {
   "cell_type": "code",
   "execution_count": 39,
   "metadata": {},
   "outputs": [],
   "source": [
    "df['pat'] = df['score'].apply(lambda s: round(s, 1))"
   ]
  },
  {
   "cell_type": "code",
   "execution_count": 40,
   "metadata": {},
   "outputs": [],
   "source": [
    "df.to_parquet('output', engine='pyarrow', partition_cols = ['pat'])"
   ]
  },
  {
   "cell_type": "code",
   "execution_count": null,
   "metadata": {},
   "outputs": [],
   "source": []
  }
 ],
 "metadata": {
  "kernelspec": {
   "display_name": "Python 3",
   "language": "python",
   "name": "python3"
  },
  "language_info": {
   "codemirror_mode": {
    "name": "ipython",
    "version": 3
   },
   "file_extension": ".py",
   "mimetype": "text/x-python",
   "name": "python",
   "nbconvert_exporter": "python",
   "pygments_lexer": "ipython3",
   "version": "3.6.4"
  }
 },
 "nbformat": 4,
 "nbformat_minor": 2
}
