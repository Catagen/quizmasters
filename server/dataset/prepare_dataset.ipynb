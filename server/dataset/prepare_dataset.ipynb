{
 "cells": [
  {
   "cell_type": "code",
   "execution_count": 70,
   "metadata": {},
   "outputs": [],
   "source": [
    "import pandas as pd\n",
    "import pyarrow as pa\n",
    "from tqdm import tqdm\n",
    "import seaborn as sns\n",
    "import numpy as np"
   ]
  },
  {
   "cell_type": "code",
   "execution_count": 71,
   "metadata": {},
   "outputs": [],
   "source": [
    "tqdm.pandas()"
   ]
  },
  {
   "cell_type": "code",
   "execution_count": 101,
   "metadata": {
    "collapsed": true
   },
   "outputs": [
    {
     "name": "stderr",
     "output_type": "stream",
     "text": [
      "/Library/Frameworks/Python.framework/Versions/3.6/lib/python3.6/site-packages/IPython/core/interactiveshell.py:3020: DtypeWarning: Columns (3) have mixed types.Specify dtype option on import or set low_memory=False.\n",
      "  interactivity=interactivity, compiler=compiler, result=result)\n"
     ]
    }
   ],
   "source": [
    "df = pd.read_csv(\n",
    "    'urban-dictionary-words-dataset.zip', \n",
    "    error_bad_lines=False,\n",
    "    usecols=[\n",
    "        'word_id', \n",
    "        'word', \n",
    "        'up_votes',\n",
    "        'down_votes',\n",
    "        'definition']\n",
    ")"
   ]
  },
  {
   "cell_type": "code",
   "execution_count": 102,
   "metadata": {},
   "outputs": [
    {
     "data": {
      "text/plain": [
       "(2580925, 5)"
      ]
     },
     "execution_count": 102,
     "metadata": {},
     "output_type": "execute_result"
    }
   ],
   "source": [
    "df.shape"
   ]
  },
  {
   "cell_type": "code",
   "execution_count": 103,
   "metadata": {},
   "outputs": [],
   "source": [
    "df.up_votes = pd.to_numeric(df.up_votes, errors='coerce')\n",
    "df.down_votes = pd.to_numeric(df.down_votes, errors='coerce')\n",
    "df = df.dropna()"
   ]
  },
  {
   "cell_type": "code",
   "execution_count": 110,
   "metadata": {},
   "outputs": [],
   "source": [
    "df = df.drop(df[df['down_votes'] < 0 ].index)\n",
    "df = df.drop(df[df['up_votes'] < 0 ].index)"
   ]
  },
  {
   "cell_type": "code",
   "execution_count": 112,
   "metadata": {},
   "outputs": [
    {
     "name": "stderr",
     "output_type": "stream",
     "text": [
      "100%|██████████| 2578971/2578971 [02:47<00:00, 15369.67it/s]\n"
     ]
    }
   ],
   "source": [
    "def mean(row):\n",
    "\ts = row.up_votes + row.down_votes\n",
    "\tr = row.up_votes\n",
    "\treturn 0 if s == 0 else (r / s)\n",
    "\n",
    "df['score'] = df.progress_apply(lambda row: mean(row), axis=1)"
   ]
  },
  {
   "cell_type": "code",
   "execution_count": 121,
   "metadata": {},
   "outputs": [
    {
     "name": "stderr",
     "output_type": "stream",
     "text": [
      "100%|██████████| 1638633/1638633 [00:43<00:00, 37589.11it/s]\n"
     ]
    }
   ],
   "source": [
    "df = df.drop(df[df['score'] < 0.5 ].index)\n",
    "df['score'] = df.progress_apply(lambda row: (row.score - 0.5) / 0.5, axis=1)"
   ]
  },
  {
   "cell_type": "code",
   "execution_count": 122,
   "metadata": {},
   "outputs": [
    {
     "data": {
      "text/plain": [
       "<matplotlib.axes._subplots.AxesSubplot at 0x2c2ee00b8>"
      ]
     },
     "execution_count": 122,
     "metadata": {},
     "output_type": "execute_result"
    },
    {
     "data": {
      "image/png": "[encoded data removed]",
      "text/plain": [
       "<Figure size 432x288 with 1 Axes>"
      ]
     },
     "metadata": {
      "needs_background": "light"
     },
     "output_type": "display_data"
    }
   ],
   "source": [
    "sns.distplot(df[['score']])"
   ]
  },
  {
   "cell_type": "code",
   "execution_count": null,
   "metadata": {},
   "outputs": [],
   "source": [
    "#duplicates = df[df.duplicated(['word'], keep=False)]\n",
    "#df[df['word'] == word][df['up_votes'] == df[df['word'] == word]['up_votes'].max()]"
   ]
  },
  {
   "cell_type": "code",
   "execution_count": 160,
   "metadata": {},
   "outputs": [
    {
     "data": {
      "text/html": [
       "<div>\n",
       "<style scoped>\n",
       "    .dataframe tbody tr th:only-of-type {\n",
       "        vertical-align: middle;\n",
       "    }\n",
       "\n",
       "    .dataframe tbody tr th {\n",
       "        vertical-align: top;\n",
       "    }\n",
       "\n",
       "    .dataframe thead th {\n",
       "        text-align: right;\n",
       "    }\n",
       "</style>\n",
       "<table border=\"1\" class=\"dataframe\">\n",
       "  <thead>\n",
       "    <tr style=\"text-align: right;\">\n",
       "      <th></th>\n",
       "      <th>word_id</th>\n",
       "      <th>word</th>\n",
       "      <th>up_votes</th>\n",
       "      <th>down_votes</th>\n",
       "      <th>definition</th>\n",
       "      <th>score</th>\n",
       "    </tr>\n",
       "  </thead>\n",
       "  <tbody>\n",
       "    <tr>\n",
       "      <th>2407166</th>\n",
       "      <td>7731747</td>\n",
       "      <td>yofam</td>\n",
       "      <td>2067.0</td>\n",
       "      <td>0.0</td>\n",
       "      <td>Yofam is a greeting from one person to another...</td>\n",
       "      <td>1.000000</td>\n",
       "    </tr>\n",
       "    <tr>\n",
       "      <th>2304713</th>\n",
       "      <td>7070316</td>\n",
       "      <td>Taffanaut</td>\n",
       "      <td>1585.0</td>\n",
       "      <td>0.0</td>\n",
       "      <td>Person born in Wales (UK) who has travelled in...</td>\n",
       "      <td>1.000000</td>\n",
       "    </tr>\n",
       "    <tr>\n",
       "      <th>2333780</th>\n",
       "      <td>7219861</td>\n",
       "      <td>Thanksgivukkah</td>\n",
       "      <td>3860.0</td>\n",
       "      <td>2.0</td>\n",
       "      <td>Thanksgivukkah is the name given to the conver...</td>\n",
       "      <td>0.998964</td>\n",
       "    </tr>\n",
       "    <tr>\n",
       "      <th>2404274</th>\n",
       "      <td>7705693</td>\n",
       "      <td>seachellefly</td>\n",
       "      <td>4140.0</td>\n",
       "      <td>6.0</td>\n",
       "      <td>A cheating, conniving, lying person of the fem...</td>\n",
       "      <td>0.997106</td>\n",
       "    </tr>\n",
       "    <tr>\n",
       "      <th>2441596</th>\n",
       "      <td>7905086</td>\n",
       "      <td>Wisdom Bomb</td>\n",
       "      <td>1106.0</td>\n",
       "      <td>2.0</td>\n",
       "      <td>Sage advice given.</td>\n",
       "      <td>0.996390</td>\n",
       "    </tr>\n",
       "    <tr>\n",
       "      <th>2467497</th>\n",
       "      <td>8033884</td>\n",
       "      <td>rateboost</td>\n",
       "      <td>1028.0</td>\n",
       "      <td>2.0</td>\n",
       "      <td>To dishonestly boost your rates for personal g...</td>\n",
       "      <td>0.996117</td>\n",
       "    </tr>\n",
       "    <tr>\n",
       "      <th>2209209</th>\n",
       "      <td>6466831</td>\n",
       "      <td>transpants</td>\n",
       "      <td>4408.0</td>\n",
       "      <td>9.0</td>\n",
       "      <td>Pants designed for the female figure that add ...</td>\n",
       "      <td>0.995925</td>\n",
       "    </tr>\n",
       "    <tr>\n",
       "      <th>2367803</th>\n",
       "      <td>7431915</td>\n",
       "      <td>lady giblets</td>\n",
       "      <td>1773.0</td>\n",
       "      <td>4.0</td>\n",
       "      <td>Female reproductive organs.</td>\n",
       "      <td>0.995498</td>\n",
       "    </tr>\n",
       "    <tr>\n",
       "      <th>2266389</th>\n",
       "      <td>6851605</td>\n",
       "      <td>SigEp Saddle</td>\n",
       "      <td>1277.0</td>\n",
       "      <td>3.0</td>\n",
       "      <td>The name given to a sorostitute/slam-piece tha...</td>\n",
       "      <td>0.995313</td>\n",
       "    </tr>\n",
       "    <tr>\n",
       "      <th>2217637</th>\n",
       "      <td>6523029</td>\n",
       "      <td>Social Securitits</td>\n",
       "      <td>1583.0</td>\n",
       "      <td>4.0</td>\n",
       "      <td>Women over the age of 55 who refuse to wear a ...</td>\n",
       "      <td>0.994959</td>\n",
       "    </tr>\n",
       "    <tr>\n",
       "      <th>2450526</th>\n",
       "      <td>7946000</td>\n",
       "      <td>dick metrics</td>\n",
       "      <td>1016.0</td>\n",
       "      <td>3.0</td>\n",
       "      <td>Arbitrary unit of measurement used mostly by m...</td>\n",
       "      <td>0.994112</td>\n",
       "    </tr>\n",
       "    <tr>\n",
       "      <th>2466899</th>\n",
       "      <td>8030866</td>\n",
       "      <td>campy</td>\n",
       "      <td>9589.0</td>\n",
       "      <td>30.0</td>\n",
       "      <td>Camp (n.) and Campy (adj.): Being so extreme t...</td>\n",
       "      <td>0.993762</td>\n",
       "    </tr>\n",
       "    <tr>\n",
       "      <th>2495279</th>\n",
       "      <td>8173526</td>\n",
       "      <td>Decriminalize</td>\n",
       "      <td>1174.0</td>\n",
       "      <td>4.0</td>\n",
       "      <td>To remove a tiny fragment of a statutory probl...</td>\n",
       "      <td>0.993209</td>\n",
       "    </tr>\n",
       "    <tr>\n",
       "      <th>2322154</th>\n",
       "      <td>7154174</td>\n",
       "      <td>slapperdoodle</td>\n",
       "      <td>7838.0</td>\n",
       "      <td>28.0</td>\n",
       "      <td>A spontaneous event which is associated with w...</td>\n",
       "      <td>0.992881</td>\n",
       "    </tr>\n",
       "    <tr>\n",
       "      <th>2451298</th>\n",
       "      <td>7949782</td>\n",
       "      <td>party chum</td>\n",
       "      <td>1010.0</td>\n",
       "      <td>4.0</td>\n",
       "      <td>The stomach contents ejected after overindulgi...</td>\n",
       "      <td>0.992110</td>\n",
       "    </tr>\n",
       "    <tr>\n",
       "      <th>2360842</th>\n",
       "      <td>7389780</td>\n",
       "      <td>Legalize</td>\n",
       "      <td>1708.0</td>\n",
       "      <td>7.0</td>\n",
       "      <td>e.g: 'Legalize weed, man!' ;; To 'legalize' me...</td>\n",
       "      <td>0.991837</td>\n",
       "    </tr>\n",
       "    <tr>\n",
       "      <th>562279</th>\n",
       "      <td>1505256</td>\n",
       "      <td>baseball cards</td>\n",
       "      <td>6612.0</td>\n",
       "      <td>28.0</td>\n",
       "      <td>Basically these are collector items in the vei...</td>\n",
       "      <td>0.991566</td>\n",
       "    </tr>\n",
       "    <tr>\n",
       "      <th>675462</th>\n",
       "      <td>1837462</td>\n",
       "      <td>henslayer</td>\n",
       "      <td>1167.0</td>\n",
       "      <td>5.0</td>\n",
       "      <td>n. a male who has sex with as many women as po...</td>\n",
       "      <td>0.991468</td>\n",
       "    </tr>\n",
       "    <tr>\n",
       "      <th>1544491</th>\n",
       "      <td>4286395</td>\n",
       "      <td>catching wood</td>\n",
       "      <td>1826.0</td>\n",
       "      <td>8.0</td>\n",
       "      <td>getting a boner.</td>\n",
       "      <td>0.991276</td>\n",
       "    </tr>\n",
       "    <tr>\n",
       "      <th>2368256</th>\n",
       "      <td>7435406</td>\n",
       "      <td>Larry Major at WIPRO</td>\n",
       "      <td>2730.0</td>\n",
       "      <td>14.0</td>\n",
       "      <td>The nigger Larry Major in Omaha is a spook tha...</td>\n",
       "      <td>0.989796</td>\n",
       "    </tr>\n",
       "  </tbody>\n",
       "</table>\n",
       "</div>"
      ],
      "text/plain": [
       "         word_id                  word  up_votes  down_votes  \\\n",
       "2407166  7731747                 yofam    2067.0         0.0   \n",
       "2304713  7070316             Taffanaut    1585.0         0.0   \n",
       "2333780  7219861        Thanksgivukkah    3860.0         2.0   \n",
       "2404274  7705693          seachellefly    4140.0         6.0   \n",
       "2441596  7905086           Wisdom Bomb    1106.0         2.0   \n",
       "2467497  8033884             rateboost    1028.0         2.0   \n",
       "2209209  6466831            transpants    4408.0         9.0   \n",
       "2367803  7431915          lady giblets    1773.0         4.0   \n",
       "2266389  6851605          SigEp Saddle    1277.0         3.0   \n",
       "2217637  6523029     Social Securitits    1583.0         4.0   \n",
       "2450526  7946000          dick metrics    1016.0         3.0   \n",
       "2466899  8030866                 campy    9589.0        30.0   \n",
       "2495279  8173526         Decriminalize    1174.0         4.0   \n",
       "2322154  7154174         slapperdoodle    7838.0        28.0   \n",
       "2451298  7949782            party chum    1010.0         4.0   \n",
       "2360842  7389780              Legalize    1708.0         7.0   \n",
       "562279   1505256        baseball cards    6612.0        28.0   \n",
       "675462   1837462             henslayer    1167.0         5.0   \n",
       "1544491  4286395         catching wood    1826.0         8.0   \n",
       "2368256  7435406  Larry Major at WIPRO    2730.0        14.0   \n",
       "\n",
       "                                                definition     score  \n",
       "2407166  Yofam is a greeting from one person to another...  1.000000  \n",
       "2304713  Person born in Wales (UK) who has travelled in...  1.000000  \n",
       "2333780  Thanksgivukkah is the name given to the conver...  0.998964  \n",
       "2404274  A cheating, conniving, lying person of the fem...  0.997106  \n",
       "2441596                                 Sage advice given.  0.996390  \n",
       "2467497  To dishonestly boost your rates for personal g...  0.996117  \n",
       "2209209  Pants designed for the female figure that add ...  0.995925  \n",
       "2367803                        Female reproductive organs.  0.995498  \n",
       "2266389  The name given to a sorostitute/slam-piece tha...  0.995313  \n",
       "2217637  Women over the age of 55 who refuse to wear a ...  0.994959  \n",
       "2450526  Arbitrary unit of measurement used mostly by m...  0.994112  \n",
       "2466899  Camp (n.) and Campy (adj.): Being so extreme t...  0.993762  \n",
       "2495279  To remove a tiny fragment of a statutory probl...  0.993209  \n",
       "2322154  A spontaneous event which is associated with w...  0.992881  \n",
       "2451298  The stomach contents ejected after overindulgi...  0.992110  \n",
       "2360842  e.g: 'Legalize weed, man!' ;; To 'legalize' me...  0.991837  \n",
       "562279   Basically these are collector items in the vei...  0.991566  \n",
       "675462   n. a male who has sex with as many women as po...  0.991468  \n",
       "1544491                                   getting a boner.  0.991276  \n",
       "2368256  The nigger Larry Major in Omaha is a spook tha...  0.989796  "
      ]
     },
     "execution_count": 160,
     "metadata": {},
     "output_type": "execute_result"
    }
   ],
   "source": [
    "df = df.sort_values(by=['up_votes'], ascending=False)\n",
    "df = df.drop_duplicates('word', keep='first')\n",
    "df = df.sort_values(by=['score'], ascending=False)\n",
    "df[df['up_votes'] > 1000][:20]"
   ]
  },
  {
   "cell_type": "code",
   "execution_count": 173,
   "metadata": {},
   "outputs": [],
   "source": [
    "df['pat'] = df['score'].apply(lambda s: round(s, 1))"
   ]
  },
  {
   "cell_type": "code",
   "execution_count": 174,
   "metadata": {},
   "outputs": [],
   "source": [
    "df.to_parquet('output', engine='pyarrow', partition_cols = ['pat'])"
   ]
  }
 ],
 "metadata": {
  "kernelspec": {
   "display_name": "Python 3",
   "language": "python",
   "name": "python3"
  },
  "language_info": {
   "codemirror_mode": {
    "name": "ipython",
    "version": 3
   },
   "file_extension": ".py",
   "mimetype": "text/x-python",
   "name": "python",
   "nbconvert_exporter": "python",
   "pygments_lexer": "ipython3",
   "version": "3.6.4"
  }
 },
 "nbformat": 4,
 "nbformat_minor": 2
}
