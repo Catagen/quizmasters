{
 "cells": [
  {
   "cell_type": "code",
   "execution_count": 35,
   "metadata": {},
   "outputs": [],
   "source": [
    "import pandas as pd\n",
    "import pyarrow.parquet as pq\n",
    "import glob\n",
    "from nltk import edit_distance\n",
    "from tqdm import tqdm\n",
    "import re\n",
    "tqdm.pandas()"
   ]
  },
  {
   "cell_type": "code",
   "execution_count": 36,
   "metadata": {},
   "outputs": [],
   "source": [
    "def dataframe(path, cols):\n",
    "\tpaths = glob.glob(path)\n",
    "\tdataset = pq.ParquetDataset(paths)\n",
    "\ttable = dataset.read()\n",
    "\tdf = table.to_pandas()\n",
    "\tdf = df[cols]\n",
    "\treturn df"
   ]
  },
  {
   "cell_type": "code",
   "execution_count": 37,
   "metadata": {},
   "outputs": [],
   "source": [
    "df = dataframe('base/*/*.parquet', ['word', 'definition', 'score'])"
   ]
  },
  {
   "cell_type": "code",
   "execution_count": 38,
   "metadata": {},
   "outputs": [
    {
     "name": "stderr",
     "output_type": "stream",
     "text": [
      "100%|██████████| 1284585/1284585 [00:31<00:00, 40399.53it/s]\n"
     ]
    }
   ],
   "source": [
    "df['spaces'] = df.progress_apply(lambda row: ' ' in row.word, axis=1)"
   ]
  },
  {
   "cell_type": "code",
   "execution_count": 39,
   "metadata": {},
   "outputs": [],
   "source": [
    "df = df[df['spaces'] == False]"
   ]
  },
  {
   "cell_type": "code",
   "execution_count": 40,
   "metadata": {},
   "outputs": [
    {
     "name": "stderr",
     "output_type": "stream",
     "text": [
      "100%|██████████| 698110/698110 [21:43<00:00, 535.37it/s]\n"
     ]
    }
   ],
   "source": [
    "def strip_special(word):\n",
    "    return re.sub('[^A-Za-z0-9]+', '', word).lower()\n",
    "\n",
    "def similarity(row):\n",
    "    content = [strip_special(word) for word in row[\"definition\"].split()]\n",
    "    return min([edit_distance(word, strip_special(row[\"word\"])) for word in content])\n",
    "\n",
    "df['similarity'] = df.progress_apply(lambda row: similarity(row), axis=1)"
   ]
  },
  {
   "cell_type": "code",
   "execution_count": 41,
   "metadata": {},
   "outputs": [],
   "source": [
    "df = df.drop(df[df['similarity'] < 3].index)"
   ]
  },
  {
   "cell_type": "code",
   "execution_count": 42,
   "metadata": {},
   "outputs": [],
   "source": [
    "df['pat'] = df['score'].apply(lambda s: round(s, 1))"
   ]
  },
  {
   "cell_type": "code",
   "execution_count": 43,
   "metadata": {},
   "outputs": [],
   "source": [
    "df = df.drop(['spaces', 'similarity'], axis=1)"
   ]
  },
  {
   "cell_type": "code",
   "execution_count": 44,
   "metadata": {},
   "outputs": [],
   "source": [
    "df.to_parquet('output', engine='pyarrow', partition_cols = ['pat'])"
   ]
  },
  {
   "cell_type": "code",
   "execution_count": null,
   "metadata": {},
   "outputs": [],
   "source": []
  }
 ],
 "metadata": {
  "kernelspec": {
   "display_name": "Python 3",
   "language": "python",
   "name": "python3"
  },
  "language_info": {
   "codemirror_mode": {
    "name": "ipython",
    "version": 3
   },
   "file_extension": ".py",
   "mimetype": "text/x-python",
   "name": "python",
   "nbconvert_exporter": "python",
   "pygments_lexer": "ipython3",
   "version": "3.6.4"
  }
 },
 "nbformat": 4,
 "nbformat_minor": 2
}
